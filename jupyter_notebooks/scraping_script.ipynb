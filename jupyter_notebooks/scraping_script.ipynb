{
 "cells": [
  {
   "cell_type": "code",
   "execution_count": 127,
   "metadata": {
    "scrolled": true
   },
   "outputs": [],
   "source": [
    "# Import libraries\n",
    "from bs4 import BeautifulSoup\n",
    "import csv\n",
    "import json\n",
    "import pandas as pd\n",
    "import numpy as np\n",
    "import re\n",
    "import requests\n",
    "from selenium import webdriver\n",
    "from selenium.webdriver.chrome.options import Options\n",
    "from selenium.webdriver.common.keys import Keys\n",
    "import time\n",
    "import warnings\n",
    "import random\n",
    "import csv\n",
    "warnings.filterwarnings(\"ignore\")"
   ]
  },
  {
   "cell_type": "code",
   "execution_count": 128,
   "metadata": {},
   "outputs": [],
   "source": [
    "# Import csv file\n",
    "cities_path = \"../data/hotels_items.csv\""
   ]
  },
  {
   "cell_type": "code",
   "execution_count": 129,
   "metadata": {},
   "outputs": [],
   "source": [
    "# Create dataframe\n",
    "cities_df = pd.read_csv(cities_path, usecols = [\"city\"])"
   ]
  },
  {
   "cell_type": "code",
   "execution_count": 130,
   "metadata": {},
   "outputs": [
    {
     "data": {
      "text/html": [
       "<div>\n",
       "<style scoped>\n",
       "    .dataframe tbody tr th:only-of-type {\n",
       "        vertical-align: middle;\n",
       "    }\n",
       "\n",
       "    .dataframe tbody tr th {\n",
       "        vertical-align: top;\n",
       "    }\n",
       "\n",
       "    .dataframe thead th {\n",
       "        text-align: right;\n",
       "    }\n",
       "</style>\n",
       "<table border=\"1\" class=\"dataframe\">\n",
       "  <thead>\n",
       "    <tr style=\"text-align: right;\">\n",
       "      <th></th>\n",
       "      <th>city</th>\n",
       "    </tr>\n",
       "  </thead>\n",
       "  <tbody>\n",
       "    <tr>\n",
       "      <th>0</th>\n",
       "      <td>Mutterstadt, Germany</td>\n",
       "    </tr>\n",
       "    <tr>\n",
       "      <th>1</th>\n",
       "      <td>Passau, Germany</td>\n",
       "    </tr>\n",
       "    <tr>\n",
       "      <th>2</th>\n",
       "      <td>Hamburg, Germany</td>\n",
       "    </tr>\n",
       "    <tr>\n",
       "      <th>3</th>\n",
       "      <td>Stralsund, Germany</td>\n",
       "    </tr>\n",
       "    <tr>\n",
       "      <th>4</th>\n",
       "      <td>Wolfsburg, Germany</td>\n",
       "    </tr>\n",
       "  </tbody>\n",
       "</table>\n",
       "</div>"
      ],
      "text/plain": [
       "                   city\n",
       "0  Mutterstadt, Germany\n",
       "1       Passau, Germany\n",
       "2      Hamburg, Germany\n",
       "3    Stralsund, Germany\n",
       "4    Wolfsburg, Germany"
      ]
     },
     "execution_count": 130,
     "metadata": {},
     "output_type": "execute_result"
    }
   ],
   "source": [
    "cities_df.head()"
   ]
  },
  {
   "cell_type": "code",
   "execution_count": 131,
   "metadata": {
    "scrolled": true
   },
   "outputs": [
    {
     "name": "stdout",
     "output_type": "stream",
     "text": [
      "<class 'pandas.core.frame.DataFrame'>\n",
      "RangeIndex: 727491 entries, 0 to 727490\n",
      "Data columns (total 1 columns):\n",
      "city    727491 non-null object\n",
      "dtypes: object(1)\n",
      "memory usage: 5.6+ MB\n"
     ]
    }
   ],
   "source": [
    "# Sanity check\n",
    "cities_df.info()"
   ]
  },
  {
   "cell_type": "code",
   "execution_count": 132,
   "metadata": {
    "scrolled": true
   },
   "outputs": [],
   "source": [
    "cities_df.drop_duplicates(inplace = True)"
   ]
  },
  {
   "cell_type": "code",
   "execution_count": 133,
   "metadata": {
    "scrolled": false
   },
   "outputs": [
    {
     "name": "stdout",
     "output_type": "stream",
     "text": [
      "<class 'pandas.core.frame.DataFrame'>\n",
      "Int64Index: 27194 entries, 0 to 727408\n",
      "Data columns (total 1 columns):\n",
      "city    27194 non-null object\n",
      "dtypes: object(1)\n",
      "memory usage: 424.9+ KB\n"
     ]
    }
   ],
   "source": [
    "cities_df.info()"
   ]
  },
  {
   "cell_type": "code",
   "execution_count": 134,
   "metadata": {},
   "outputs": [],
   "source": [
    "city_list = cities_df[\"city\"].tolist()"
   ]
  },
  {
   "cell_type": "code",
   "execution_count": 135,
   "metadata": {},
   "outputs": [],
   "source": [
    "# # Create empty columns for the values that will be pulled through API\n",
    "hotels_df = pd.DataFrame()\n",
    "hotels_df[\"rating\"] = np.nan\n",
    "hotels_df[\"name\"] = None\n",
    "hotels_df[\"address\"] = None\n",
    "hotels_df[\"locality\"] = None\n",
    "hotels_df[\"landmarks\"] = None\n",
    "hotels_df[\"price\"] = np.nan"
   ]
  },
  {
   "cell_type": "code",
   "execution_count": 136,
   "metadata": {},
   "outputs": [
    {
     "data": {
      "text/plain": [
       "27194"
      ]
     },
     "execution_count": 136,
     "metadata": {},
     "output_type": "execute_result"
    }
   ],
   "source": [
    "# List lenght\n",
    "len(city_list)"
   ]
  },
  {
   "cell_type": "code",
   "execution_count": null,
   "metadata": {
    "scrolled": false
   },
   "outputs": [
    {
     "name": "stdout",
     "output_type": "stream",
     "text": [
      "['Can Picafort, Spain', 'Grupotel Gran Vista & SPA', 4.5, 'Ctra. Arta - Pto Alcudia, Can Picafort, Santa Margalida, Mallorca, 07458, Spain', 'Can Picafort', '0.7 miles to Es Figueral de Son Real\\n0.7 miles to Finca Pública de Son Real', 'na']\n",
      "['Can Picafort, Spain', 'Apartamentos YourHouse Acapulco', 4.0, 'Calle José Trias, 22, Can Picafort, Santa Margalida, Mallorca, 07458, Spain', 'Can Picafort', '0.7 miles to Es Figueral de Son Real\\n0.7 miles to Finca Pública de Son Real', 'na']\n",
      "['Can Picafort, Spain', 'BQ Can Picafort Hotel', 4.5, 'Carrer Arenal, 24, Can Picafort, Santa Margalida, Mallorca, 07458, Spain', 'Can Picafort', '0.6 miles to Es Figueral de Son Real\\n0.6 miles to Finca Pública de Son Real', 'na']\n",
      "['Can Picafort, Spain', 'EIX Platja Daurada', 4.0, 'Passeig Colom, Can Picafort, Santa Margalida, Mallorca, 07458, Spain', 'Can Picafort', '1.1 miles to Es Figueral de Son Real\\n1.1 miles to Finca Pública de Son Real', 'na']\n",
      "['Can Picafort, Spain', 'Zafiro Can Picafort', 4.5, \"C/Camp D'Avall, S/N, Can Picafort, Santa Margalida, Mallorca, 07458, Spain\", 'Can Picafort', '0.7 miles to Es Figueral de Son Real\\n0.7 miles to Finca Pública de Son Real', 'na']\n",
      "['Can Picafort, Spain', 'Villa Marga', 'na', 'Carrer Méndez Núñez 17, Santa Margalida, Illes Balears, 07458, Spain', 'Can Picafort', '0.2 miles to Es Figueral de Son Real\\n0.2 miles to Finca Pública de Son Real', 'na']\n",
      "\n",
      "27185 cities remaining. \n",
      "\n",
      "\n",
      "27184 cities remaining. \n",
      "\n",
      "\n",
      "27183 cities remaining. \n",
      "\n",
      "\n",
      "27182 cities remaining. \n",
      "\n",
      "['Torpoint, United Kingdom', 'Rame Barton', 5.0, 'Military Road, Cawsand, Torpoint, England, PL10 1LG, United Kingdom', 'Torpoint', '3.3 miles to City center\\n3.7 miles to Whitsand Bay', 'na']\n",
      "['Torpoint, United Kingdom', 'Little Fox Hotel', 4.5, 'Crafthole, Whitsand Bay, Torpoint, England, PL11 3BD, United Kingdom', 'Torpoint', '1.3 miles to City center\\n1.2 miles to Whitsand Bay', 107.0]\n",
      "['Torpoint, United Kingdom', 'The Copley Arms', 3.5, 'FORE STREET, HESSENFORD near Looe, Torpoint, England, PL11 3HJ, United Kingdom', 'Torpoint', '5.6 miles to City center\\n5.2 miles to Whitsand Bay', 'na']\n",
      "['Torpoint, United Kingdom', 'Chough Cottage', 'na', 'Chough Cottage Heavitree Road, Torpoint, England, PL10 1NP, United Kingdom', 'Torpoint', '3.4 miles to City center\\n3.9 miles to Whitsand Bay', 'na']\n",
      "['Torpoint, United Kingdom', 'Lodge 19', 'na', 'Lodge 19 Whitsand Bay Holiday Park, Millbrook, Torpoint, England, PL10 1JZ, United Kingdom', 'Torpoint', '1.6 miles to City center\\n2.1 miles to Whitsand Bay', 'na']\n",
      "['Torpoint, United Kingdom', 'Tregonhawke Farm Apartment', 'na', 'Tregonhawke Farm Millbrook, Torpoint, England, PL10 1JH, United Kingdom', 'Torpoint', '2.0 miles to City center\\n2.5 miles to Whitsand Bay', 'na']\n",
      "\n",
      "27181 cities remaining. \n",
      "\n",
      "\n",
      "27180 cities remaining. \n",
      "\n"
     ]
    }
   ],
   "source": [
    "options = Options()\n",
    "options.headless = True\n",
    "driver = webdriver.Chrome('/usr/bin/chromedriver', chrome_options=options)\n",
    "url = \"https://www.hotels.com/\"\n",
    "\n",
    "#response.implicitly_wait(10)\n",
    "\n",
    "with open(r'../data/hotels_com_scrape.csv', 'a') as f:\n",
    "    csv_writer = csv.writer(f)\n",
    "    for city in list(city_list):\n",
    "        #print('Processing: ' + city)\n",
    "\n",
    "        searchKey = city\n",
    "        checkInDate = '08/27/2020' #Format %m/%d/%Y\n",
    "        checkOutDate = '08/29/2020' #Format %m/%d/%Y\n",
    "\n",
    "        driver.get(url)\n",
    "\n",
    "        searchKeyElement = driver.find_elements_by_name(\"q-destination\")\n",
    "        checkInElement = driver.find_elements_by_name(\"q-localised-check-in\")\n",
    "        checkOutElement = driver.find_elements_by_name(\"q-localised-check-out\")\n",
    "        submitButton = driver.find_elements_by_css_selector(\"button.cta-strong\")\n",
    "        closeIconForPopup = driver.find_elements_by_css_selector(\"span.close-icon\")\n",
    "        closeTypeahead = driver.find_elements_by_css_selector(\"button.cta-link\")\n",
    "        closeTypeahead = driver.find_elements_by_css_selector(\"button.cta-link\")\n",
    "\n",
    "        if searchKeyElement and checkInElement and checkOutElement and closeIconForPopup:\n",
    "            #print('All search elements found.')\n",
    "            searchKeyElement[0].clear()\n",
    "            searchKeyElement[0].send_keys(searchKey)\n",
    "            checkInElement[0].clear()\n",
    "            checkInElement[0].send_keys(checkInDate)\n",
    "            checkOutElement[0].clear()\n",
    "            checkOutElement[0].send_keys(checkOutDate)\n",
    "            closeIconForPopup[0].click()\n",
    "            \n",
    "            # Try to close the the autocomplete box\n",
    "            searchKeyElement[0].send_keys(Keys.ARROW_DOWN)\n",
    "            time.sleep(1)\n",
    "            searchKeyElement[0].send_keys(Keys.ENTER)\n",
    "            \n",
    "            time.sleep(2)\n",
    "            #submitButton[0].click()\n",
    "            #print('Pressed the submit button.')\n",
    "\n",
    "            #print('Scrolling a few times.')\n",
    "            for i in range(3):\n",
    "                driver.find_element_by_tag_name('body').send_keys(Keys.END)\n",
    "                time.sleep(0.5)\n",
    "\n",
    "            hotels = driver.find_elements_by_css_selector('section.hotel-wrap')\n",
    "\n",
    "            for index, hotel in enumerate(hotels):\n",
    "                hotel_name = hotel.find_element_by_css_selector('a.property-name-link').text.strip()\n",
    "                try:\n",
    "                    hotel_rating = float(hotel.find_element_by_css_selector('div.ta-logo').text.split()[-1])\n",
    "                except:\n",
    "                    hotel_rating = \"na\"\n",
    "                hotel_address = hotel.find_element_by_css_selector('span.address').text\n",
    "                hotel_locality = hotel.find_element_by_css_selector(\"a.map-link\").text.strip()\n",
    "                hotel_landmarks = hotel.find_element_by_css_selector(\"ul.property-landmarks\").text\n",
    "                try:\n",
    "                    hotel_price = float(hotel.find_element_by_css_selector(\"a.price-link\").find_element_by_tag_name(\"ins\").text.strip(\"$\"))\n",
    "                except:\n",
    "                    hotel_price = \"na\"\n",
    "\n",
    "                #print(\"Saving...\")\n",
    "                row = [city, hotel_name, hotel_rating, hotel_address, hotel_locality, hotel_landmarks, hotel_price]\n",
    "                print(row)\n",
    "                csv_writer.writerow(row)\n",
    "        #print(\"Done!\")\n",
    "        city_list.remove(city)\n",
    "        print(\"\\n\" + str(len(city_list)) + \" cities remaining. \\n\")\n",
    "\n",
    "driver.quit()\n",
    "print(\"We done.\")"
   ]
  },
  {
   "cell_type": "code",
   "execution_count": 123,
   "metadata": {},
   "outputs": [],
   "source": [
    "driver.quit()"
   ]
  },
  {
   "cell_type": "code",
   "execution_count": null,
   "metadata": {},
   "outputs": [],
   "source": []
  }
 ],
 "metadata": {
  "kernelspec": {
   "display_name": "Python 3",
   "language": "python",
   "name": "python3"
  },
  "language_info": {
   "codemirror_mode": {
    "name": "ipython",
    "version": 3
   },
   "file_extension": ".py",
   "mimetype": "text/x-python",
   "name": "python",
   "nbconvert_exporter": "python",
   "pygments_lexer": "ipython3",
   "version": "3.5.2"
  }
 },
 "nbformat": 4,
 "nbformat_minor": 2
}
