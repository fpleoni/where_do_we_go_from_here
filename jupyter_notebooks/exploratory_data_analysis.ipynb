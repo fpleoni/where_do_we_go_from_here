{
 "cells": [
  {
   "cell_type": "code",
   "execution_count": 5,
   "metadata": {},
   "outputs": [],
   "source": [
    "# Import libraries\n",
    "import datetime\n",
    "import matplotlib.pyplot as plt\n",
    "import numpy as np\n",
    "import pandas as pd\n",
    "pd.set_option(\"display.max_rows\", 500)\n",
    "pd.options.display.max_colwidth = 1000\n",
    "import seaborn as sns\n",
    "import time\n",
    "import warnings\n",
    "warnings.filterwarnings(\"ignore\")"
   ]
  },
  {
   "cell_type": "code",
   "execution_count": 3,
   "metadata": {},
   "outputs": [],
   "source": [
    "# Import CSV files\n",
    "trivago_path = \"../data/train.csv\"\n",
    "hotels_path = \"../data/hotels_items.csv\"\n",
    "\n",
    "# Create DataFrame\n",
    "trivago_df = pd.read_csv(trivago_path)\n",
    "hotels_df = pd.read_csv(hotels_path, usecols = [\"item_id\", \"properties\", \"city\", \"price\"])"
   ]
  },
  {
   "cell_type": "code",
   "execution_count": 6,
   "metadata": {},
   "outputs": [],
   "source": [
    "# Convert UNIX time stamp (timestime column) to UTC \n",
    "date_conv = lambda x: datetime.datetime.utcfromtimestamp(x).strftime(\"%Y-%m-%d\")\n",
    "time_conv = lambda x: datetime.datetime.utcfromtimestamp(x).strftime(\"%H:%M:%S\")\n",
    "trivago_df[\"date\"] = trivago_df[\"timestamp\"].map(date_conv)\n",
    "trivago_df[\"time\"] = trivago_df[\"timestamp\"].map(time_conv)"
   ]
  },
  {
   "cell_type": "code",
   "execution_count": 7,
   "metadata": {},
   "outputs": [],
   "source": [
    "# Drop UNIX timestamp\n",
    "trivago_df.drop(\"timestamp\", axis = 1, inplace = True)"
   ]
  },
  {
   "cell_type": "code",
   "execution_count": null,
   "metadata": {},
   "outputs": [],
   "source": []
  }
 ],
 "metadata": {
  "kernelspec": {
   "display_name": "Python 3",
   "language": "python",
   "name": "python3"
  },
  "language_info": {
   "codemirror_mode": {
    "name": "ipython",
    "version": 3
   },
   "file_extension": ".py",
   "mimetype": "text/x-python",
   "name": "python",
   "nbconvert_exporter": "python",
   "pygments_lexer": "ipython3",
   "version": "3.7.1"
  }
 },
 "nbformat": 4,
 "nbformat_minor": 2
}
