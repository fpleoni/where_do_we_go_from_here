{
 "cells": [
  {
   "cell_type": "code",
   "execution_count": 1,
   "metadata": {},
   "outputs": [
    {
     "name": "stderr",
     "output_type": "stream",
     "text": [
      "/usr/lib/python3/dist-packages/h5py/__init__.py:36: FutureWarning: Conversion of the second argument of issubdtype from `float` to `np.floating` is deprecated. In future, it will be treated as `np.float64 == np.dtype(float).type`.\n",
      "  from ._conv import register_converters as _register_converters\n"
     ]
    }
   ],
   "source": [
    "# Import libraries\n",
    "from collections import Counter, OrderedDict\n",
    "from itertools import chain\n",
    "from tensorflow.keras import models\n",
    "from tensorflow.keras import layers\n",
    "from tensorflow.keras import preprocessing\n",
    "from tensorflow.keras import models\n",
    "from tensorflow.keras import optimizers\n",
    "from tensorflow.keras import backend as K\n",
    "from tensorflow.keras import regularizers\n",
    "%matplotlib inline\n",
    "import matplotlib.pyplot as plt\n",
    "plt.style.use(\"fivethirtyeight\")\n",
    "plt.rcParams[\"font.size\"] = 15\n",
    "import numpy as np\n",
    "import pandas as pd\n",
    "pd.set_option(\"display.max_rows\", 500)\n",
    "pd.options.display.max_colwidth = 1000\n",
    "import random\n",
    "import seaborn as sns\n",
    "from sklearn.manifold import TSNE\n",
    "import tensorflow as tf\n",
    "import warnings\n",
    "warnings.filterwarnings(\"ignore\")"
   ]
  },
  {
   "cell_type": "code",
   "execution_count": 2,
   "metadata": {},
   "outputs": [],
   "source": [
    "# Path to file\n",
    "hotels_path = \"../data/hotels_items.csv\"\n",
    "# Create dataframe\n",
    "hotels_df = pd.read_csv(hotels_path, usecols = [\"item_id\", \"properties\", \"city\", \"price\"])"
   ]
  },
  {
   "cell_type": "code",
   "execution_count": 3,
   "metadata": {},
   "outputs": [],
   "source": [
    "# Create item list\n",
    "item_list = hotels_df[\"item_id\"].tolist()\n",
    "\n",
    "# Create indexes for each item\n",
    "item_index = {item: idx for idx, item in enumerate(item_list)}\n",
    "index_item = {idx: item for item, idx in item_index.items()}\n",
    "\n",
    "# Create price list\n",
    "price_list = hotels_df[\"price\"].tolist()\n",
    "\n",
    "# Create indexes for each item\n",
    "price_index = {price: idx for idx, price in enumerate(price_list)}\n",
    "index_price = {idx: price for price, idx in price_index.items()}\n",
    "\n",
    "# Prepare properties column\n",
    "\n",
    "# Split of pipe\n",
    "hotels_df[\"properties\"] = hotels_df[\"properties\"].str.split(\"|\")\n",
    "\n",
    "# Convert all properties to lowercase\n",
    "hotels_df[\"properties\"] = hotels_df[\"properties\"].apply(lambda x: [w.lower() for w in x])\n",
    "\n",
    "# Create list\n",
    "properties_list = hotels_df[\"properties\"].tolist()\n",
    "\n",
    "# Find set of unique properties and convert to a list\n",
    "unique_properties = list(chain(*[list(set(tags)) for tags in properties_list]))\n",
    "unique_properties = set(unique_properties)\n",
    "\n",
    "# Create indexes for each property\n",
    "property_index = {tag: idx for idx, tag in enumerate(unique_properties)}\n",
    "index_properties = {idx: tag for tag, idx in property_index.items()}\n",
    "\n",
    "# Prepare city column\n",
    "\n",
    "# Convert all properties to lowercase\n",
    "hotels_df[\"city\"] = hotels_df[\"city\"].apply(lambda x: x.lower())\n",
    "\n",
    "# Create list\n",
    "location_list = hotels_df[\"city\"].tolist()\n",
    "\n",
    "# Find set of unique locations and convert to a list\n",
    "# unique_locations = list(chain(*[list(set(location)) for location in location_list]))\n",
    "unique_locations = set(location_list)\n",
    "\n",
    "# Create indexes for each property\n",
    "location_index = {location: idx for idx, location in enumerate(unique_locations)}\n",
    "index_location = {idx: location for location, idx in location_index.items()}"
   ]
  },
  {
   "cell_type": "code",
   "execution_count": 4,
   "metadata": {},
   "outputs": [
    {
     "name": "stdout",
     "output_type": "stream",
     "text": [
      "WARNING:tensorflow:From /usr/local/lib/python3.6/dist-packages/tensorflow/python/ops/resource_variable_ops.py:435: colocate_with (from tensorflow.python.framework.ops) is deprecated and will be removed in a future version.\n",
      "Instructions for updating:\n",
      "Colocations handled automatically by placer.\n",
      "WARNING:tensorflow:From /usr/local/lib/python3.6/dist-packages/tensorflow/python/ops/math_ops.py:3066: to_int32 (from tensorflow.python.ops.math_ops) is deprecated and will be removed in a future version.\n",
      "Instructions for updating:\n",
      "Use tf.cast instead.\n"
     ]
    }
   ],
   "source": [
    "# Import embeddings model and weights\n",
    "embeddings_model = models.load_model(\"../models/embeddings_third_attempt.h5\")\n",
    "embeddings_model.load_weights(\"../models/embeddings_third_attempt_weights.h5\")"
   ]
  },
  {
   "cell_type": "code",
   "execution_count": null,
   "metadata": {},
   "outputs": [],
   "source": []
  }
 ],
 "metadata": {
  "kernelspec": {
   "display_name": "Python 3",
   "language": "python",
   "name": "python3"
  },
  "language_info": {
   "codemirror_mode": {
    "name": "ipython",
    "version": 3
   },
   "file_extension": ".py",
   "mimetype": "text/x-python",
   "name": "python",
   "nbconvert_exporter": "python",
   "pygments_lexer": "ipython3",
   "version": "3.6.7"
  }
 },
 "nbformat": 4,
 "nbformat_minor": 2
}
